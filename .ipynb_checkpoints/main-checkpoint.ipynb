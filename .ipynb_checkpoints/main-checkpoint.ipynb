{
 "cells": [
  {
   "cell_type": "markdown",
   "metadata": {},
   "source": [
    "### INPUTS"
   ]
  },
  {
   "cell_type": "code",
   "execution_count": 1,
   "metadata": {},
   "outputs": [],
   "source": [
    "x = [2, 4, 6, 8, 10, 12]\n",
    "y = [42, 48.4, 51.3, 56.3, 58.6, 70]\n",
    "x_err = 0\n",
    "y_err = 5"
   ]
  },
  {
   "cell_type": "markdown",
   "metadata": {},
   "source": [
    "### CONFIGURE"
   ]
  },
  {
   "cell_type": "code",
   "execution_count": 2,
   "metadata": {},
   "outputs": [],
   "source": [
    "CONFIG = {\n",
    "    # Label\n",
    "    'title': '',\n",
    "    'x_label': 'x',\n",
    "    'xerr_label': '∆x',\n",
    "    'y_label': 'y',\n",
    "    'yerr_lable': '∆y',\n",
    "    'font': {'family': 'sans-serif',\n",
    "             'color': '#000000',\n",
    "             'weight': 'normal',\n",
    "             'size': 16,\n",
    "             },\n",
    "\n",
    "    # Axes\n",
    "    'ax_axis_color': '#000000',\n",
    "    'x_min': 0,\n",
    "    'x_max': (x[0] + x[-1]) * 1.05,\n",
    "    'y_min': 0,\n",
    "    'y_max': (y[0] + y[-1]) * 1.05,\n",
    "    'ax_background': '#ffffff',\n",
    "\n",
    "    # Graph\n",
    "    'dpi': 600,\n",
    "    'grid': True,\n",
    "    'grid_color': '#d0d0d0',\n",
    "    'grid_width': 1.5,\n",
    "\n",
    "    # Error bars\n",
    "    'ecolor': '#000000',\n",
    "    'elinewidth': 1.25,\n",
    "    'capsize': 6,\n",
    "    'capthick': 1.25,\n",
    "\n",
    "    # Points\n",
    "    'fmt': 'o',\n",
    "    'ms': 5,\n",
    "    'pcolor': '#16a4a3',\n",
    "\n",
    "    # Range of error lines (from point A->B)\n",
    "    'el_color': '#1f77b4',\n",
    "    'range1': [0, -1],  # Steeper line\n",
    "    'range2': [0, -1],\n",
    "\n",
    "    # Linear regression line\n",
    "    'l_width': 1.5,\n",
    "    'l_color': '#f8a823'\n",
    "}\n",
    "\n",
    "Inverted_Style = False\n",
    "if Inverted_Style:\n",
    "    CONFIG['ax_axis_color'] = '#ffffff'\n",
    "    CONFIG['ax_background'] = '#e6e6e6'\n",
    "    CONFIG['grid_color'] = '#ffffff'"
   ]
  },
  {
   "cell_type": "markdown",
   "metadata": {},
   "source": [
    "## Plot"
   ]
  },
  {
   "cell_type": "code",
   "execution_count": null,
   "metadata": {},
   "outputs": [],
   "source": [
    "import matplotlib.pyplot as plt\n",
    "import explot\n",
    "explot.main(x, x_err, y, y_err, CONFIG)\n",
    "plt.savefig(\"graph.png\")"
   ]
  },
  {
   "cell_type": "code",
   "execution_count": 22,
   "metadata": {},
   "outputs": [],
   "source": [
    "import numpy as np\n",
    "from numba import jit\n",
    "import time\n",
    "\n",
    "@jit\n",
    "def exp(x):\n",
    "    re = 0\n",
    "    for i in range(100):\n",
    "        re += x**i/np.math.factorial(i)\n",
    "    return re\n",
    "\n",
    "def exp_n(x):\n",
    "    re = 0\n",
    "    for i in range(100):\n",
    "        re += x**i/np.math.factorial(i)\n",
    "    return re"
   ]
  },
  {
   "cell_type": "code",
   "execution_count": 23,
   "metadata": {},
   "outputs": [
    {
     "name": "stderr",
     "output_type": "stream",
     "text": [
      "<ipython-input-22-d48729b74dff>:4: NumbaWarning: \u001b[1m\n",
      "Compilation is falling back to object mode WITH looplifting enabled because Function \"exp\" failed type inference due to: \u001b[1m\u001b[1mUnknown attribute 'factorial' of type Module(<module 'math' from '/Users/minhquandoan/opt/anaconda3/lib/python3.7/lib-dynload/math.cpython-37m-darwin.so'>)\n",
      "\u001b[1m\n",
      "File \"<ipython-input-22-d48729b74dff>\", line 8:\u001b[0m\n",
      "\u001b[1mdef exp(x):\n",
      "    <source elided>\n",
      "    for i in range(100):\n",
      "\u001b[1m        re += x**i/np.math.factorial(i)\n",
      "\u001b[0m        \u001b[1m^\u001b[0m\u001b[0m\n",
      "\u001b[0m\n",
      "\u001b[0m\u001b[1m[1] During: typing of get attribute at <ipython-input-22-d48729b74dff> (8)\u001b[0m\n",
      "\u001b[1m\n",
      "File \"<ipython-input-22-d48729b74dff>\", line 8:\u001b[0m\n",
      "\u001b[1mdef exp(x):\n",
      "    <source elided>\n",
      "    for i in range(100):\n",
      "\u001b[1m        re += x**i/np.math.factorial(i)\n",
      "\u001b[0m        \u001b[1m^\u001b[0m\u001b[0m\n",
      "\u001b[0m\n",
      "  @jit\n",
      "<ipython-input-22-d48729b74dff>:4: NumbaWarning: \u001b[1m\n",
      "Compilation is falling back to object mode WITHOUT looplifting enabled because Function \"exp\" failed type inference due to: \u001b[1m\u001b[1mcannot determine Numba type of <class 'numba.core.dispatcher.LiftedLoop'>\u001b[0m\n",
      "\u001b[1m\n",
      "File \"<ipython-input-22-d48729b74dff>\", line 7:\u001b[0m\n",
      "\u001b[1mdef exp(x):\n",
      "    <source elided>\n",
      "    re = 0\n",
      "\u001b[1m    for i in range(100):\n",
      "\u001b[0m    \u001b[1m^\u001b[0m\u001b[0m\n",
      "\u001b[0m\u001b[0m\n",
      "  @jit\n",
      "/Users/minhquandoan/opt/anaconda3/lib/python3.7/site-packages/numba/core/object_mode_passes.py:178: NumbaWarning: \u001b[1mFunction \"exp\" was compiled in object mode without forceobj=True, but has lifted loops.\n",
      "\u001b[1m\n",
      "File \"<ipython-input-22-d48729b74dff>\", line 6:\u001b[0m\n",
      "\u001b[1mdef exp(x):\n",
      "\u001b[1m    re = 0\n",
      "\u001b[0m    \u001b[1m^\u001b[0m\u001b[0m\n",
      "\u001b[0m\n",
      "  state.func_ir.loc))\n",
      "/Users/minhquandoan/opt/anaconda3/lib/python3.7/site-packages/numba/core/object_mode_passes.py:188: NumbaDeprecationWarning: \u001b[1m\n",
      "Fall-back from the nopython compilation path to the object mode compilation path has been detected, this is deprecated behaviour.\n",
      "\n",
      "For more information visit http://numba.pydata.org/numba-doc/latest/reference/deprecation.html#deprecation-of-object-mode-fall-back-behaviour-when-using-jit\n",
      "\u001b[1m\n",
      "File \"<ipython-input-22-d48729b74dff>\", line 6:\u001b[0m\n",
      "\u001b[1mdef exp(x):\n",
      "\u001b[1m    re = 0\n",
      "\u001b[0m    \u001b[1m^\u001b[0m\u001b[0m\n",
      "\u001b[0m\n",
      "  state.func_ir.loc))\n",
      "<ipython-input-22-d48729b74dff>:4: NumbaWarning: \u001b[1m\n",
      "Compilation is falling back to object mode WITHOUT looplifting enabled because Function \"exp\" failed type inference due to: \u001b[1m\u001b[1mUnknown attribute 'factorial' of type Module(<module 'math' from '/Users/minhquandoan/opt/anaconda3/lib/python3.7/lib-dynload/math.cpython-37m-darwin.so'>)\n",
      "\u001b[1m\n",
      "File \"<ipython-input-22-d48729b74dff>\", line 8:\u001b[0m\n",
      "\u001b[1mdef exp(x):\n",
      "    <source elided>\n",
      "    for i in range(100):\n",
      "\u001b[1m        re += x**i/np.math.factorial(i)\n",
      "\u001b[0m        \u001b[1m^\u001b[0m\u001b[0m\n",
      "\u001b[0m\n",
      "\u001b[0m\u001b[1m[1] During: typing of get attribute at <ipython-input-22-d48729b74dff> (8)\u001b[0m\n",
      "\u001b[1m\n",
      "File \"<ipython-input-22-d48729b74dff>\", line 8:\u001b[0m\n",
      "\u001b[1mdef exp(x):\n",
      "    <source elided>\n",
      "    for i in range(100):\n",
      "\u001b[1m        re += x**i/np.math.factorial(i)\n",
      "\u001b[0m        \u001b[1m^\u001b[0m\u001b[0m\n",
      "\u001b[0m\n",
      "  @jit\n",
      "/Users/minhquandoan/opt/anaconda3/lib/python3.7/site-packages/numba/core/object_mode_passes.py:178: NumbaWarning: \u001b[1mFunction \"exp\" was compiled in object mode without forceobj=True.\n",
      "\u001b[1m\n",
      "File \"<ipython-input-22-d48729b74dff>\", line 7:\u001b[0m\n",
      "\u001b[1mdef exp(x):\n",
      "    <source elided>\n",
      "    re = 0\n",
      "\u001b[1m    for i in range(100):\n",
      "\u001b[0m    \u001b[1m^\u001b[0m\u001b[0m\n",
      "\u001b[0m\n",
      "  state.func_ir.loc))\n",
      "/Users/minhquandoan/opt/anaconda3/lib/python3.7/site-packages/numba/core/object_mode_passes.py:188: NumbaDeprecationWarning: \u001b[1m\n",
      "Fall-back from the nopython compilation path to the object mode compilation path has been detected, this is deprecated behaviour.\n",
      "\n",
      "For more information visit http://numba.pydata.org/numba-doc/latest/reference/deprecation.html#deprecation-of-object-mode-fall-back-behaviour-when-using-jit\n",
      "\u001b[1m\n",
      "File \"<ipython-input-22-d48729b74dff>\", line 7:\u001b[0m\n",
      "\u001b[1mdef exp(x):\n",
      "    <source elided>\n",
      "    re = 0\n",
      "\u001b[1m    for i in range(100):\n",
      "\u001b[0m    \u001b[1m^\u001b[0m\u001b[0m\n",
      "\u001b[0m\n",
      "  state.func_ir.loc))\n"
     ]
    },
    {
     "data": {
      "text/plain": [
       "7.389056098930649"
      ]
     },
     "execution_count": 23,
     "metadata": {},
     "output_type": "execute_result"
    }
   ],
   "source": [
    "t1 = time.time()\n",
    "e = exp_n(2)\n",
    "t2 = time.time()\n",
    "print(t2-t1)\n",
    "t1 = time.time()\n",
    "f = exp(2)\n",
    "t2 = time.time()\n",
    "print(t2-t1)"
   ]
  },
  {
   "cell_type": "code",
   "execution_count": null,
   "metadata": {},
   "outputs": [],
   "source": []
  }
 ],
 "metadata": {
  "kernelspec": {
   "display_name": "Python 3",
   "language": "python",
   "name": "python3"
  },
  "language_info": {
   "codemirror_mode": {
    "name": "ipython",
    "version": 3
   },
   "file_extension": ".py",
   "mimetype": "text/x-python",
   "name": "python",
   "nbconvert_exporter": "python",
   "pygments_lexer": "ipython3",
   "version": "3.7.7"
  }
 },
 "nbformat": 4,
 "nbformat_minor": 4
}
